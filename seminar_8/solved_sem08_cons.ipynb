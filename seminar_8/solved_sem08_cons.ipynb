{
 "cells": [
  {
   "cell_type": "code",
   "execution_count": 1,
   "id": "ranking-singles",
   "metadata": {},
   "outputs": [],
   "source": [
    "import numpy as np\n",
    "import pandas as pd\n",
    "import matplotlib.pyplot as plt"
   ]
  },
  {
   "cell_type": "code",
   "execution_count": 3,
   "id": "binding-elevation",
   "metadata": {},
   "outputs": [],
   "source": [
    "from sklearn.datasets import load_boston"
   ]
  },
  {
   "cell_type": "code",
   "execution_count": 5,
   "id": "exempt-cardiff",
   "metadata": {},
   "outputs": [],
   "source": [
    "X, y = load_boston()['data'], load_boston()['target']"
   ]
  },
  {
   "cell_type": "code",
   "execution_count": 13,
   "id": "stunning-singles",
   "metadata": {},
   "outputs": [],
   "source": [
    "X = pd.DataFrame(X, columns = load_boston()['feature_names'])"
   ]
  },
  {
   "cell_type": "code",
   "execution_count": 15,
   "id": "departmental-auction",
   "metadata": {},
   "outputs": [
    {
     "data": {
      "text/html": [
       "<div>\n",
       "<style scoped>\n",
       "    .dataframe tbody tr th:only-of-type {\n",
       "        vertical-align: middle;\n",
       "    }\n",
       "\n",
       "    .dataframe tbody tr th {\n",
       "        vertical-align: top;\n",
       "    }\n",
       "\n",
       "    .dataframe thead th {\n",
       "        text-align: right;\n",
       "    }\n",
       "</style>\n",
       "<table border=\"1\" class=\"dataframe\">\n",
       "  <thead>\n",
       "    <tr style=\"text-align: right;\">\n",
       "      <th></th>\n",
       "      <th>CRIM</th>\n",
       "      <th>ZN</th>\n",
       "      <th>INDUS</th>\n",
       "      <th>CHAS</th>\n",
       "      <th>NOX</th>\n",
       "      <th>RM</th>\n",
       "      <th>AGE</th>\n",
       "      <th>DIS</th>\n",
       "      <th>RAD</th>\n",
       "      <th>TAX</th>\n",
       "      <th>PTRATIO</th>\n",
       "      <th>B</th>\n",
       "      <th>LSTAT</th>\n",
       "    </tr>\n",
       "  </thead>\n",
       "  <tbody>\n",
       "    <tr>\n",
       "      <th>count</th>\n",
       "      <td>506.000000</td>\n",
       "      <td>506.000000</td>\n",
       "      <td>506.000000</td>\n",
       "      <td>506.000000</td>\n",
       "      <td>506.000000</td>\n",
       "      <td>506.000000</td>\n",
       "      <td>506.000000</td>\n",
       "      <td>506.000000</td>\n",
       "      <td>506.000000</td>\n",
       "      <td>506.000000</td>\n",
       "      <td>506.000000</td>\n",
       "      <td>506.000000</td>\n",
       "      <td>506.000000</td>\n",
       "    </tr>\n",
       "    <tr>\n",
       "      <th>mean</th>\n",
       "      <td>3.613524</td>\n",
       "      <td>11.363636</td>\n",
       "      <td>11.136779</td>\n",
       "      <td>0.069170</td>\n",
       "      <td>0.554695</td>\n",
       "      <td>6.284634</td>\n",
       "      <td>68.574901</td>\n",
       "      <td>3.795043</td>\n",
       "      <td>9.549407</td>\n",
       "      <td>408.237154</td>\n",
       "      <td>18.455534</td>\n",
       "      <td>356.674032</td>\n",
       "      <td>12.653063</td>\n",
       "    </tr>\n",
       "    <tr>\n",
       "      <th>std</th>\n",
       "      <td>8.601545</td>\n",
       "      <td>23.322453</td>\n",
       "      <td>6.860353</td>\n",
       "      <td>0.253994</td>\n",
       "      <td>0.115878</td>\n",
       "      <td>0.702617</td>\n",
       "      <td>28.148861</td>\n",
       "      <td>2.105710</td>\n",
       "      <td>8.707259</td>\n",
       "      <td>168.537116</td>\n",
       "      <td>2.164946</td>\n",
       "      <td>91.294864</td>\n",
       "      <td>7.141062</td>\n",
       "    </tr>\n",
       "    <tr>\n",
       "      <th>min</th>\n",
       "      <td>0.006320</td>\n",
       "      <td>0.000000</td>\n",
       "      <td>0.460000</td>\n",
       "      <td>0.000000</td>\n",
       "      <td>0.385000</td>\n",
       "      <td>3.561000</td>\n",
       "      <td>2.900000</td>\n",
       "      <td>1.129600</td>\n",
       "      <td>1.000000</td>\n",
       "      <td>187.000000</td>\n",
       "      <td>12.600000</td>\n",
       "      <td>0.320000</td>\n",
       "      <td>1.730000</td>\n",
       "    </tr>\n",
       "    <tr>\n",
       "      <th>25%</th>\n",
       "      <td>0.082045</td>\n",
       "      <td>0.000000</td>\n",
       "      <td>5.190000</td>\n",
       "      <td>0.000000</td>\n",
       "      <td>0.449000</td>\n",
       "      <td>5.885500</td>\n",
       "      <td>45.025000</td>\n",
       "      <td>2.100175</td>\n",
       "      <td>4.000000</td>\n",
       "      <td>279.000000</td>\n",
       "      <td>17.400000</td>\n",
       "      <td>375.377500</td>\n",
       "      <td>6.950000</td>\n",
       "    </tr>\n",
       "    <tr>\n",
       "      <th>50%</th>\n",
       "      <td>0.256510</td>\n",
       "      <td>0.000000</td>\n",
       "      <td>9.690000</td>\n",
       "      <td>0.000000</td>\n",
       "      <td>0.538000</td>\n",
       "      <td>6.208500</td>\n",
       "      <td>77.500000</td>\n",
       "      <td>3.207450</td>\n",
       "      <td>5.000000</td>\n",
       "      <td>330.000000</td>\n",
       "      <td>19.050000</td>\n",
       "      <td>391.440000</td>\n",
       "      <td>11.360000</td>\n",
       "    </tr>\n",
       "    <tr>\n",
       "      <th>75%</th>\n",
       "      <td>3.677083</td>\n",
       "      <td>12.500000</td>\n",
       "      <td>18.100000</td>\n",
       "      <td>0.000000</td>\n",
       "      <td>0.624000</td>\n",
       "      <td>6.623500</td>\n",
       "      <td>94.075000</td>\n",
       "      <td>5.188425</td>\n",
       "      <td>24.000000</td>\n",
       "      <td>666.000000</td>\n",
       "      <td>20.200000</td>\n",
       "      <td>396.225000</td>\n",
       "      <td>16.955000</td>\n",
       "    </tr>\n",
       "    <tr>\n",
       "      <th>max</th>\n",
       "      <td>88.976200</td>\n",
       "      <td>100.000000</td>\n",
       "      <td>27.740000</td>\n",
       "      <td>1.000000</td>\n",
       "      <td>0.871000</td>\n",
       "      <td>8.780000</td>\n",
       "      <td>100.000000</td>\n",
       "      <td>12.126500</td>\n",
       "      <td>24.000000</td>\n",
       "      <td>711.000000</td>\n",
       "      <td>22.000000</td>\n",
       "      <td>396.900000</td>\n",
       "      <td>37.970000</td>\n",
       "    </tr>\n",
       "  </tbody>\n",
       "</table>\n",
       "</div>"
      ],
      "text/plain": [
       "             CRIM          ZN       INDUS        CHAS         NOX          RM  \\\n",
       "count  506.000000  506.000000  506.000000  506.000000  506.000000  506.000000   \n",
       "mean     3.613524   11.363636   11.136779    0.069170    0.554695    6.284634   \n",
       "std      8.601545   23.322453    6.860353    0.253994    0.115878    0.702617   \n",
       "min      0.006320    0.000000    0.460000    0.000000    0.385000    3.561000   \n",
       "25%      0.082045    0.000000    5.190000    0.000000    0.449000    5.885500   \n",
       "50%      0.256510    0.000000    9.690000    0.000000    0.538000    6.208500   \n",
       "75%      3.677083   12.500000   18.100000    0.000000    0.624000    6.623500   \n",
       "max     88.976200  100.000000   27.740000    1.000000    0.871000    8.780000   \n",
       "\n",
       "              AGE         DIS         RAD         TAX     PTRATIO           B  \\\n",
       "count  506.000000  506.000000  506.000000  506.000000  506.000000  506.000000   \n",
       "mean    68.574901    3.795043    9.549407  408.237154   18.455534  356.674032   \n",
       "std     28.148861    2.105710    8.707259  168.537116    2.164946   91.294864   \n",
       "min      2.900000    1.129600    1.000000  187.000000   12.600000    0.320000   \n",
       "25%     45.025000    2.100175    4.000000  279.000000   17.400000  375.377500   \n",
       "50%     77.500000    3.207450    5.000000  330.000000   19.050000  391.440000   \n",
       "75%     94.075000    5.188425   24.000000  666.000000   20.200000  396.225000   \n",
       "max    100.000000   12.126500   24.000000  711.000000   22.000000  396.900000   \n",
       "\n",
       "            LSTAT  \n",
       "count  506.000000  \n",
       "mean    12.653063  \n",
       "std      7.141062  \n",
       "min      1.730000  \n",
       "25%      6.950000  \n",
       "50%     11.360000  \n",
       "75%     16.955000  \n",
       "max     37.970000  "
      ]
     },
     "execution_count": 15,
     "metadata": {},
     "output_type": "execute_result"
    }
   ],
   "source": [
    "X.describe()"
   ]
  },
  {
   "cell_type": "code",
   "execution_count": 16,
   "id": "dated-performer",
   "metadata": {},
   "outputs": [
    {
     "data": {
      "text/plain": [
       "CRIM       float64\n",
       "ZN         float64\n",
       "INDUS      float64\n",
       "CHAS       float64\n",
       "NOX        float64\n",
       "RM         float64\n",
       "AGE        float64\n",
       "DIS        float64\n",
       "RAD        float64\n",
       "TAX        float64\n",
       "PTRATIO    float64\n",
       "B          float64\n",
       "LSTAT      float64\n",
       "dtype: object"
      ]
     },
     "execution_count": 16,
     "metadata": {},
     "output_type": "execute_result"
    }
   ],
   "source": [
    "X.dtypes"
   ]
  },
  {
   "cell_type": "code",
   "execution_count": 17,
   "id": "jewish-vegetarian",
   "metadata": {},
   "outputs": [],
   "source": [
    "from sklearn.model_selection import train_test_split"
   ]
  },
  {
   "cell_type": "code",
   "execution_count": 18,
   "id": "national-change",
   "metadata": {},
   "outputs": [],
   "source": [
    "np.random.seed(123)\n",
    "X_train, X_test, y_train, y_test = train_test_split(X, y, test_size = 0.3)"
   ]
  },
  {
   "cell_type": "code",
   "execution_count": 26,
   "id": "spread-surfing",
   "metadata": {},
   "outputs": [],
   "source": [
    "from sklearn import preprocessing"
   ]
  },
  {
   "cell_type": "code",
   "execution_count": 27,
   "id": "statewide-tongue",
   "metadata": {},
   "outputs": [],
   "source": [
    "ss = preprocessing.StandardScaler()"
   ]
  },
  {
   "cell_type": "code",
   "execution_count": 28,
   "id": "intensive-exhaust",
   "metadata": {},
   "outputs": [],
   "source": [
    "from sklearn.preprocessing import StandardScaler"
   ]
  },
  {
   "cell_type": "code",
   "execution_count": 31,
   "id": "decreased-medium",
   "metadata": {},
   "outputs": [],
   "source": [
    "X_train_transformed = ss.fit_transform(X_train)\n",
    "X_test_transformed = ss.transform(X_test)"
   ]
  },
  {
   "cell_type": "code",
   "execution_count": 33,
   "id": "senior-blair",
   "metadata": {},
   "outputs": [
    {
     "data": {
      "text/html": [
       "<div>\n",
       "<style scoped>\n",
       "    .dataframe tbody tr th:only-of-type {\n",
       "        vertical-align: middle;\n",
       "    }\n",
       "\n",
       "    .dataframe tbody tr th {\n",
       "        vertical-align: top;\n",
       "    }\n",
       "\n",
       "    .dataframe thead th {\n",
       "        text-align: right;\n",
       "    }\n",
       "</style>\n",
       "<table border=\"1\" class=\"dataframe\">\n",
       "  <thead>\n",
       "    <tr style=\"text-align: right;\">\n",
       "      <th></th>\n",
       "      <th>0</th>\n",
       "      <th>1</th>\n",
       "      <th>2</th>\n",
       "      <th>3</th>\n",
       "      <th>4</th>\n",
       "      <th>5</th>\n",
       "      <th>6</th>\n",
       "      <th>7</th>\n",
       "      <th>8</th>\n",
       "      <th>9</th>\n",
       "      <th>10</th>\n",
       "      <th>11</th>\n",
       "      <th>12</th>\n",
       "    </tr>\n",
       "  </thead>\n",
       "  <tbody>\n",
       "    <tr>\n",
       "      <th>0</th>\n",
       "      <td>-0.358429</td>\n",
       "      <td>0.373206</td>\n",
       "      <td>-0.575289</td>\n",
       "      <td>3.982103</td>\n",
       "      <td>-0.756717</td>\n",
       "      <td>1.945607</td>\n",
       "      <td>-0.560172</td>\n",
       "      <td>0.241346</td>\n",
       "      <td>-0.736411</td>\n",
       "      <td>-1.074980</td>\n",
       "      <td>0.074392</td>\n",
       "      <td>0.345382</td>\n",
       "      <td>-0.833654</td>\n",
       "    </tr>\n",
       "    <tr>\n",
       "      <th>1</th>\n",
       "      <td>-0.376741</td>\n",
       "      <td>0.416765</td>\n",
       "      <td>-0.768547</td>\n",
       "      <td>-0.251124</td>\n",
       "      <td>-0.976585</td>\n",
       "      <td>0.278163</td>\n",
       "      <td>-1.644439</td>\n",
       "      <td>1.393485</td>\n",
       "      <td>-0.617916</td>\n",
       "      <td>-0.954568</td>\n",
       "      <td>-0.770569</td>\n",
       "      <td>0.415212</td>\n",
       "      <td>-1.013901</td>\n",
       "    </tr>\n",
       "    <tr>\n",
       "      <th>2</th>\n",
       "      <td>-0.375078</td>\n",
       "      <td>-0.497977</td>\n",
       "      <td>-1.234121</td>\n",
       "      <td>-0.251124</td>\n",
       "      <td>-0.545643</td>\n",
       "      <td>-0.240441</td>\n",
       "      <td>-0.192863</td>\n",
       "      <td>-0.590969</td>\n",
       "      <td>-0.736411</td>\n",
       "      <td>-1.255597</td>\n",
       "      <td>-0.301147</td>\n",
       "      <td>0.415212</td>\n",
       "      <td>-0.435725</td>\n",
       "    </tr>\n",
       "    <tr>\n",
       "      <th>3</th>\n",
       "      <td>0.171309</td>\n",
       "      <td>-0.497977</td>\n",
       "      <td>1.055687</td>\n",
       "      <td>-0.251124</td>\n",
       "      <td>1.433171</td>\n",
       "      <td>-0.024238</td>\n",
       "      <td>0.852554</td>\n",
       "      <td>-0.699068</td>\n",
       "      <td>1.751988</td>\n",
       "      <td>1.592137</td>\n",
       "      <td>0.825468</td>\n",
       "      <td>0.280679</td>\n",
       "      <td>0.648527</td>\n",
       "    </tr>\n",
       "    <tr>\n",
       "      <th>4</th>\n",
       "      <td>1.344784</td>\n",
       "      <td>-0.497977</td>\n",
       "      <td>1.055687</td>\n",
       "      <td>-0.251124</td>\n",
       "      <td>1.063792</td>\n",
       "      <td>0.326208</td>\n",
       "      <td>1.110377</td>\n",
       "      <td>-1.098613</td>\n",
       "      <td>1.751988</td>\n",
       "      <td>1.592137</td>\n",
       "      <td>0.825468</td>\n",
       "      <td>0.415212</td>\n",
       "      <td>1.176788</td>\n",
       "    </tr>\n",
       "    <tr>\n",
       "      <th>...</th>\n",
       "      <td>...</td>\n",
       "      <td>...</td>\n",
       "      <td>...</td>\n",
       "      <td>...</td>\n",
       "      <td>...</td>\n",
       "      <td>...</td>\n",
       "      <td>...</td>\n",
       "      <td>...</td>\n",
       "      <td>...</td>\n",
       "      <td>...</td>\n",
       "      <td>...</td>\n",
       "      <td>...</td>\n",
       "      <td>...</td>\n",
       "    </tr>\n",
       "    <tr>\n",
       "      <th>349</th>\n",
       "      <td>-0.373664</td>\n",
       "      <td>-0.497977</td>\n",
       "      <td>-1.171166</td>\n",
       "      <td>-0.251124</td>\n",
       "      <td>-0.923817</td>\n",
       "      <td>2.127895</td>\n",
       "      <td>-1.086412</td>\n",
       "      <td>-0.168694</td>\n",
       "      <td>-0.854906</td>\n",
       "      <td>-0.755889</td>\n",
       "      <td>-0.207262</td>\n",
       "      <td>0.376823</td>\n",
       "      <td>-1.250994</td>\n",
       "    </tr>\n",
       "    <tr>\n",
       "      <th>350</th>\n",
       "      <td>0.147505</td>\n",
       "      <td>-0.497977</td>\n",
       "      <td>1.055687</td>\n",
       "      <td>-0.251124</td>\n",
       "      <td>0.562492</td>\n",
       "      <td>0.240009</td>\n",
       "      <td>0.916127</td>\n",
       "      <td>-0.728669</td>\n",
       "      <td>1.751988</td>\n",
       "      <td>1.592137</td>\n",
       "      <td>0.825468</td>\n",
       "      <td>0.407352</td>\n",
       "      <td>0.844025</td>\n",
       "    </tr>\n",
       "    <tr>\n",
       "      <th>351</th>\n",
       "      <td>-0.344364</td>\n",
       "      <td>-0.497977</td>\n",
       "      <td>-0.513798</td>\n",
       "      <td>-0.251124</td>\n",
       "      <td>-0.501670</td>\n",
       "      <td>-0.385989</td>\n",
       "      <td>-0.627276</td>\n",
       "      <td>0.408223</td>\n",
       "      <td>-0.499420</td>\n",
       "      <td>-0.689662</td>\n",
       "      <td>0.543814</td>\n",
       "      <td>0.415212</td>\n",
       "      <td>-0.678365</td>\n",
       "    </tr>\n",
       "    <tr>\n",
       "      <th>352</th>\n",
       "      <td>0.617104</td>\n",
       "      <td>-0.497977</td>\n",
       "      <td>1.055687</td>\n",
       "      <td>-0.251124</td>\n",
       "      <td>1.318839</td>\n",
       "      <td>-1.099598</td>\n",
       "      <td>1.142163</td>\n",
       "      <td>-1.069811</td>\n",
       "      <td>1.751988</td>\n",
       "      <td>1.592137</td>\n",
       "      <td>0.825468</td>\n",
       "      <td>0.415212</td>\n",
       "      <td>1.526189</td>\n",
       "    </tr>\n",
       "    <tr>\n",
       "      <th>353</th>\n",
       "      <td>0.113170</td>\n",
       "      <td>-0.497977</td>\n",
       "      <td>1.055687</td>\n",
       "      <td>-0.251124</td>\n",
       "      <td>1.477144</td>\n",
       "      <td>-3.890447</td>\n",
       "      <td>0.714814</td>\n",
       "      <td>-1.054376</td>\n",
       "      <td>1.751988</td>\n",
       "      <td>1.592137</td>\n",
       "      <td>0.825468</td>\n",
       "      <td>-0.065507</td>\n",
       "      <td>-0.758782</td>\n",
       "    </tr>\n",
       "  </tbody>\n",
       "</table>\n",
       "<p>354 rows × 13 columns</p>\n",
       "</div>"
      ],
      "text/plain": [
       "           0         1         2         3         4         5         6   \\\n",
       "0   -0.358429  0.373206 -0.575289  3.982103 -0.756717  1.945607 -0.560172   \n",
       "1   -0.376741  0.416765 -0.768547 -0.251124 -0.976585  0.278163 -1.644439   \n",
       "2   -0.375078 -0.497977 -1.234121 -0.251124 -0.545643 -0.240441 -0.192863   \n",
       "3    0.171309 -0.497977  1.055687 -0.251124  1.433171 -0.024238  0.852554   \n",
       "4    1.344784 -0.497977  1.055687 -0.251124  1.063792  0.326208  1.110377   \n",
       "..        ...       ...       ...       ...       ...       ...       ...   \n",
       "349 -0.373664 -0.497977 -1.171166 -0.251124 -0.923817  2.127895 -1.086412   \n",
       "350  0.147505 -0.497977  1.055687 -0.251124  0.562492  0.240009  0.916127   \n",
       "351 -0.344364 -0.497977 -0.513798 -0.251124 -0.501670 -0.385989 -0.627276   \n",
       "352  0.617104 -0.497977  1.055687 -0.251124  1.318839 -1.099598  1.142163   \n",
       "353  0.113170 -0.497977  1.055687 -0.251124  1.477144 -3.890447  0.714814   \n",
       "\n",
       "           7         8         9         10        11        12  \n",
       "0    0.241346 -0.736411 -1.074980  0.074392  0.345382 -0.833654  \n",
       "1    1.393485 -0.617916 -0.954568 -0.770569  0.415212 -1.013901  \n",
       "2   -0.590969 -0.736411 -1.255597 -0.301147  0.415212 -0.435725  \n",
       "3   -0.699068  1.751988  1.592137  0.825468  0.280679  0.648527  \n",
       "4   -1.098613  1.751988  1.592137  0.825468  0.415212  1.176788  \n",
       "..        ...       ...       ...       ...       ...       ...  \n",
       "349 -0.168694 -0.854906 -0.755889 -0.207262  0.376823 -1.250994  \n",
       "350 -0.728669  1.751988  1.592137  0.825468  0.407352  0.844025  \n",
       "351  0.408223 -0.499420 -0.689662  0.543814  0.415212 -0.678365  \n",
       "352 -1.069811  1.751988  1.592137  0.825468  0.415212  1.526189  \n",
       "353 -1.054376  1.751988  1.592137  0.825468 -0.065507 -0.758782  \n",
       "\n",
       "[354 rows x 13 columns]"
      ]
     },
     "execution_count": 33,
     "metadata": {},
     "output_type": "execute_result"
    }
   ],
   "source": [
    "pd.DataFrame(X_train_transformed)"
   ]
  },
  {
   "cell_type": "code",
   "execution_count": 40,
   "id": "noticed-sector",
   "metadata": {},
   "outputs": [],
   "source": [
    "from sklearn.linear_model import LinearRegression, HuberRegressor\n",
    "from sklearn.metrics import mean_squared_error, mean_absolute_error, r2_score"
   ]
  },
  {
   "cell_type": "code",
   "execution_count": 37,
   "id": "recognized-knowing",
   "metadata": {},
   "outputs": [
    {
     "data": {
      "text/plain": [
       "28.40585481050826"
      ]
     },
     "execution_count": 37,
     "metadata": {},
     "output_type": "execute_result"
    }
   ],
   "source": [
    "lr = LinearRegression()\n",
    "lr.fit(X_train, y_train)\n",
    "mean_squared_error(y_test, lr.predict(X_test))"
   ]
  },
  {
   "cell_type": "code",
   "execution_count": 38,
   "id": "rotary-thinking",
   "metadata": {},
   "outputs": [
    {
     "data": {
      "text/plain": [
       "3.6913626771162544"
      ]
     },
     "execution_count": 38,
     "metadata": {},
     "output_type": "execute_result"
    }
   ],
   "source": [
    "mean_absolute_error(y_test, lr.predict(X_test))"
   ]
  },
  {
   "cell_type": "code",
   "execution_count": 39,
   "id": "vanilla-sheet",
   "metadata": {},
   "outputs": [
    {
     "data": {
      "text/plain": [
       "0.64856457423707"
      ]
     },
     "execution_count": 39,
     "metadata": {},
     "output_type": "execute_result"
    }
   ],
   "source": [
    "r2_score(y_test, lr.predict(X_test))"
   ]
  },
  {
   "cell_type": "code",
   "execution_count": 41,
   "id": "identified-universal",
   "metadata": {},
   "outputs": [],
   "source": [
    "hr = HuberRegressor()"
   ]
  },
  {
   "cell_type": "code",
   "execution_count": 42,
   "id": "greater-cargo",
   "metadata": {},
   "outputs": [
    {
     "name": "stderr",
     "output_type": "stream",
     "text": [
      "/opt/anaconda3/lib/python3.8/site-packages/sklearn/linear_model/_huber.py:296: ConvergenceWarning: lbfgs failed to converge (status=1):\n",
      "STOP: TOTAL NO. of ITERATIONS REACHED LIMIT.\n",
      "\n",
      "Increase the number of iterations (max_iter) or scale the data as shown in:\n",
      "    https://scikit-learn.org/stable/modules/preprocessing.html\n",
      "  self.n_iter_ = _check_optimize_result(\"lbfgs\", opt_res, self.max_iter)\n"
     ]
    },
    {
     "data": {
      "text/plain": [
       "33.641203777822874"
      ]
     },
     "execution_count": 42,
     "metadata": {},
     "output_type": "execute_result"
    }
   ],
   "source": [
    "hr.fit(X_train, y_train)\n",
    "mean_squared_error(y_test, hr.predict(X_test))"
   ]
  },
  {
   "cell_type": "code",
   "execution_count": 43,
   "id": "small-mercy",
   "metadata": {},
   "outputs": [
    {
     "data": {
      "text/plain": [
       "3.84215155247965"
      ]
     },
     "execution_count": 43,
     "metadata": {},
     "output_type": "execute_result"
    }
   ],
   "source": [
    "mean_absolute_error(y_test, hr.predict(X_test))"
   ]
  },
  {
   "cell_type": "code",
   "execution_count": 44,
   "id": "pending-plane",
   "metadata": {},
   "outputs": [
    {
     "data": {
      "text/plain": [
       "0.5837931703972852"
      ]
     },
     "execution_count": 44,
     "metadata": {},
     "output_type": "execute_result"
    }
   ],
   "source": [
    "r2_score(y_test, hr.predict(X_test))"
   ]
  },
  {
   "cell_type": "code",
   "execution_count": null,
   "id": "respective-allergy",
   "metadata": {},
   "outputs": [],
   "source": []
  },
  {
   "cell_type": "markdown",
   "id": "traditional-closure",
   "metadata": {},
   "source": [
    "## Валидационная выборка"
   ]
  },
  {
   "cell_type": "markdown",
   "id": "common-scanner",
   "metadata": {},
   "source": [
    "### 1.1. Максимально честно"
   ]
  },
  {
   "cell_type": "code",
   "execution_count": 45,
   "id": "deadly-quarterly",
   "metadata": {},
   "outputs": [],
   "source": [
    "np.random.seed(123)\n",
    "X_train, X_test, y_train, y_test = train_test_split(X, y, test_size = 0.3)"
   ]
  },
  {
   "cell_type": "code",
   "execution_count": 46,
   "id": "controlling-incentive",
   "metadata": {},
   "outputs": [],
   "source": [
    "X_train, X_val, y_train, y_val = train_test_split(X_train, y_train, test_size = 0.3)"
   ]
  },
  {
   "cell_type": "code",
   "execution_count": 47,
   "id": "historical-motorcycle",
   "metadata": {},
   "outputs": [
    {
     "data": {
      "text/plain": [
       "(247, 13)"
      ]
     },
     "execution_count": 47,
     "metadata": {},
     "output_type": "execute_result"
    }
   ],
   "source": [
    "X_train.shape"
   ]
  },
  {
   "cell_type": "code",
   "execution_count": 48,
   "id": "signal-arrival",
   "metadata": {},
   "outputs": [
    {
     "data": {
      "text/plain": [
       "(107, 13)"
      ]
     },
     "execution_count": 48,
     "metadata": {},
     "output_type": "execute_result"
    }
   ],
   "source": [
    "X_val.shape"
   ]
  },
  {
   "cell_type": "code",
   "execution_count": 49,
   "id": "liable-japanese",
   "metadata": {},
   "outputs": [
    {
     "data": {
      "text/plain": [
       "(152, 13)"
      ]
     },
     "execution_count": 49,
     "metadata": {},
     "output_type": "execute_result"
    }
   ],
   "source": [
    "X_test.shape"
   ]
  },
  {
   "cell_type": "code",
   "execution_count": 50,
   "id": "unlikely-referral",
   "metadata": {},
   "outputs": [],
   "source": [
    "from sklearn.linear_model import Ridge"
   ]
  },
  {
   "cell_type": "code",
   "execution_count": 51,
   "id": "moved-movie",
   "metadata": {},
   "outputs": [],
   "source": [
    "alpha = [1e-3, 1e-1, 1, 10, 100]"
   ]
  },
  {
   "cell_type": "code",
   "execution_count": 52,
   "id": "inappropriate-chapter",
   "metadata": {},
   "outputs": [],
   "source": [
    "mse_alphas = []\n",
    "\n",
    "for a in alpha:\n",
    "    ridge = Ridge(alpha = a)\n",
    "    ridge.fit(X_train, y_train)\n",
    "    mse_alphas.append(mean_squared_error(y_val, ridge.predict(X_val)))"
   ]
  },
  {
   "cell_type": "code",
   "execution_count": 53,
   "id": "weighted-authorization",
   "metadata": {},
   "outputs": [
    {
     "data": {
      "text/plain": [
       "[28.557581592232527,\n",
       " 28.37275423853069,\n",
       " 27.92728150161939,\n",
       " 26.013791066170853,\n",
       " 23.60793526526605]"
      ]
     },
     "execution_count": 53,
     "metadata": {},
     "output_type": "execute_result"
    }
   ],
   "source": [
    "mse_alphas"
   ]
  },
  {
   "cell_type": "code",
   "execution_count": 55,
   "id": "fancy-metallic",
   "metadata": {},
   "outputs": [
    {
     "data": {
      "text/plain": [
       "29.456711122858554"
      ]
     },
     "execution_count": 55,
     "metadata": {},
     "output_type": "execute_result"
    }
   ],
   "source": [
    "ridge = Ridge(alpha = 100)\n",
    "ridge.fit(X_train, y_train)\n",
    "mean_squared_error(y_test, ridge.predict(X_test))"
   ]
  },
  {
   "cell_type": "markdown",
   "id": "median-package",
   "metadata": {},
   "source": [
    "### 1.2. Нечестная (но практически применимая) стратегия"
   ]
  },
  {
   "cell_type": "code",
   "execution_count": 61,
   "id": "liable-korea",
   "metadata": {},
   "outputs": [],
   "source": [
    "np.random.seed(123)\n",
    "X_train, X_test, y_train, y_test = train_test_split(X, y, test_size = 0.3)"
   ]
  },
  {
   "cell_type": "code",
   "execution_count": 62,
   "id": "hazardous-piano",
   "metadata": {},
   "outputs": [],
   "source": [
    "from sklearn.model_selection import KFold"
   ]
  },
  {
   "cell_type": "code",
   "execution_count": 67,
   "id": "stuffed-python",
   "metadata": {},
   "outputs": [],
   "source": [
    "kf = KFold(n_splits = 5)\n",
    "errors = []\n",
    "\n",
    "for a in alpha:\n",
    "    errors_for_alpha = []\n",
    "    for train_index, test_index in kf.split(X_train):\n",
    "        X_train_train, X_train_val = np.array(X_train)[train_index], np.array(X_train)[test_index]\n",
    "        y_train_train, y_train_val = np.array(y_train)[train_index], np.array(y_train)[test_index]\n",
    "        ridge = Ridge(alpha = a)\n",
    "        ridge.fit(X_train_train, y_train_train)\n",
    "        errors_for_alpha.append(mean_squared_error(y_train_val, ridge.predict(X_train_val)))\n",
    "    errors.append(np.mean(errors_for_alpha))"
   ]
  },
  {
   "cell_type": "code",
   "execution_count": 68,
   "id": "after-insight",
   "metadata": {},
   "outputs": [
    {
     "data": {
      "text/plain": [
       "[22.56317048743284,\n",
       " 22.552897362060186,\n",
       " 22.66404857942764,\n",
       " 22.963945150142592,\n",
       " 24.919654375401773]"
      ]
     },
     "execution_count": 68,
     "metadata": {},
     "output_type": "execute_result"
    }
   ],
   "source": [
    "errors"
   ]
  },
  {
   "cell_type": "code",
   "execution_count": 69,
   "id": "dependent-murder",
   "metadata": {},
   "outputs": [
    {
     "data": {
      "text/plain": [
       "[0.001, 0.1, 1, 10, 100]"
      ]
     },
     "execution_count": 69,
     "metadata": {},
     "output_type": "execute_result"
    }
   ],
   "source": [
    "alpha"
   ]
  },
  {
   "cell_type": "code",
   "execution_count": 70,
   "id": "ahead-prototype",
   "metadata": {},
   "outputs": [
    {
     "data": {
      "text/plain": [
       "28.521323939345326"
      ]
     },
     "execution_count": 70,
     "metadata": {},
     "output_type": "execute_result"
    }
   ],
   "source": [
    "ridge = Ridge(alpha = 0.1)\n",
    "ridge.fit(X_train, y_train)\n",
    "mean_squared_error(y_test, ridge.predict(X_test))"
   ]
  },
  {
   "cell_type": "code",
   "execution_count": 71,
   "id": "right-finnish",
   "metadata": {},
   "outputs": [
    {
     "data": {
      "text/plain": [
       "20.18914294068421"
      ]
     },
     "execution_count": 71,
     "metadata": {},
     "output_type": "execute_result"
    }
   ],
   "source": [
    "# alpha = 0.1\n",
    "mean_squared_error(y_train, ridge.predict(X_train))"
   ]
  },
  {
   "cell_type": "code",
   "execution_count": 72,
   "id": "searching-girlfriend",
   "metadata": {},
   "outputs": [
    {
     "data": {
      "text/plain": [
       "22.494699730480544"
      ]
     },
     "execution_count": 72,
     "metadata": {},
     "output_type": "execute_result"
    }
   ],
   "source": [
    "# alpha = 100\n",
    "ridge = Ridge(alpha = 100)\n",
    "ridge.fit(X_train, y_train)\n",
    "mean_squared_error(y_train, ridge.predict(X_train))"
   ]
  },
  {
   "cell_type": "code",
   "execution_count": null,
   "id": "confused-reality",
   "metadata": {},
   "outputs": [],
   "source": []
  }
 ],
 "metadata": {
  "kernelspec": {
   "display_name": "Python 3",
   "language": "python",
   "name": "python3"
  },
  "language_info": {
   "codemirror_mode": {
    "name": "ipython",
    "version": 3
   },
   "file_extension": ".py",
   "mimetype": "text/x-python",
   "name": "python",
   "nbconvert_exporter": "python",
   "pygments_lexer": "ipython3",
   "version": "3.8.8"
  }
 },
 "nbformat": 4,
 "nbformat_minor": 5
}
